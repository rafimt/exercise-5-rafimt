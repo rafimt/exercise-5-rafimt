{
 "cells": [
  {
   "cell_type": "markdown",
   "metadata": {
    "deletable": false,
    "editable": false,
    "nbgrader": {
     "cell_type": "markdown",
     "checksum": "fb038891b02b74e05090a1708dcb85d7",
     "grade": false,
     "grade_id": "cell-8f87d3f057af49f1",
     "locked": true,
     "schema_version": 3,
     "solution": false,
     "task": false
    }
   },
   "source": [
    "## Problem 4 (*optional*) - Parsing daily temperatures\n",
    "\n",
    "**This is an optional task for those who want more practice.**\n",
    "\n",
    "This problem is more challenging as we provide only minimal instructions for completing the given tasks. You will need to search through the pandas documentation (and other resources) for help. We will cover data aggregation in more detail during Lesson 6, so this is a good opportunity to get a head start for next week!\n",
    "\n",
    "In this problem, the aim is to aggregate the hourly temperature data for Helsinki Kumpula and Rovaniemi weather stations to the daily level. Currently, there are (at most) 3 measurements per hour in the data as you can see from the `YR--MODAHRMN` column (Year-Month-Day-Hour-Minute in Greenwich Mean Time (GMT):\n",
    "\n",
    "```\n",
    "    USAF  YR--MODAHRMN  TEMP  MAX  MIN  Celsius\n",
    "0  28450  201705010000  31.0  NaN  NaN       -1\n",
    "1  28450  201705010020  30.0  NaN  NaN       -1\n",
    "2  28450  201705010050  30.0  NaN  NaN       -1\n",
    "3  28450  201705010100  31.0  NaN  NaN       -1\n",
    "4  28450  201705010120  30.0  NaN  NaN       -1\n",
    "```\n",
    "\n",
    "The output should contain mean, max, and min Celsius temperatures for each day (for example, one mean temperature value for the 1st of May and so on).\n",
    "\n",
    "### What to do\n",
    "\n",
    "- Your task is to summarize the information for each day by aggregating (grouping) the DataFrame.\n",
    "- The output should be a new DataFrame where you have calculated the mean, max, and min Celsius temperatures for each day separately based on hourly values.\n",
    "- Repeat the task for the two data sets you created in Problem 2 (May-August temperatures from Rovaniemi and Kumpula).\n",
    "\n",
    "Don't forget to:\n",
    "\n",
    "- Include useful comments in your code\n",
    "- Push your solution to GitHub\n",
    "\n",
    "### Hint\n",
    "\n",
    "You can find help from the [Pandas Official documentation](https://pandas.pydata.org/pandas-docs/stable/) and Google. Don't hestiate to ask for tips in Discord!"
   ]
  },
  {
   "cell_type": "code",
   "execution_count": 4,
   "metadata": {
    "deletable": false,
    "nbgrader": {
     "cell_type": "code",
     "checksum": "71f685a62c58703b2de3ecec535adf13",
     "grade": true,
     "grade_id": "problem_4_mg_p1_do_it_all",
     "locked": false,
     "points": 0,
     "schema_version": 3,
     "solution": true,
     "task": false
    },
    "tags": []
   },
   "outputs": [
    {
     "name": "stdout",
     "output_type": "stream",
     "text": [
      "           Date   USAF  Mean_Celsius  Max_Celsius  Min_Celsius\n",
      "0    2017-05-01  29980      7.625000           12            3\n",
      "1    2017-05-02  29980      9.750000           16            2\n",
      "2    2017-05-03  29980      9.208333           13            4\n",
      "3    2017-05-04  29980      6.666667           11            3\n",
      "4    2017-05-05  29980     10.250000           17            2\n",
      "..          ...    ...           ...          ...          ...\n",
      "118  2017-08-27  29980     10.625000           14            6\n",
      "119  2017-08-28  29980     11.826087           16            9\n",
      "120  2017-08-29  29980     14.500000           17            8\n",
      "121  2017-08-30  29980     16.833333           19           15\n",
      "122  2017-08-31  29980     17.250000           19           16\n",
      "\n",
      "[123 rows x 5 columns]\n"
     ]
    }
   ],
   "source": [
    "# YOUR CODE HERE\n",
    "import pandas as pd\n",
    "kumpula = pd.read_csv(\"Kumpula_temps_May_Aug_2017.csv\")\n",
    "rovaniemi = pd.read_csv(\"Rovaniemi_temps_May_Aug_2017.csv\")\n",
    "\n",
    "# Convert 'YR--MODAHRMN' to datetime\n",
    "kumpula['Date'] = pd.to_datetime(kumpula['YR--MODAHRMN'], format='%Y%m%d%H%M')\n",
    "\n",
    "# Extract date from datetime\n",
    "kumpula['Date'] = kumpula['Date'].dt.date\n",
    "\n",
    "\n",
    "result = kumpula.groupby(['Date', 'USAF']).agg(\n",
    "    Mean_Celsius=('celsius', 'mean'),\n",
    "    Max_Celsius=('celsius', 'max'),\n",
    "    Min_Celsius=('celsius', 'min')\n",
    ").reset_index()\n",
    "\n",
    "print(result)"
   ]
  },
  {
   "cell_type": "code",
   "execution_count": null,
   "metadata": {},
   "outputs": [],
   "source": []
  }
 ],
 "metadata": {
  "anaconda-cloud": {},
  "kernelspec": {
   "display_name": "Python 3 (ipykernel)",
   "language": "python",
   "name": "python3"
  },
  "language_info": {
   "codemirror_mode": {
    "name": "ipython",
    "version": 3
   },
   "file_extension": ".py",
   "mimetype": "text/x-python",
   "name": "python",
   "nbconvert_exporter": "python",
   "pygments_lexer": "ipython3",
   "version": "3.10.10"
  }
 },
 "nbformat": 4,
 "nbformat_minor": 4
}
